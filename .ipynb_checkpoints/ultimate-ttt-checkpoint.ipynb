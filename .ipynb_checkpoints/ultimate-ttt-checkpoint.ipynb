{
 "cells": [
  {
   "cell_type": "code",
   "execution_count": 128,
   "metadata": {
    "scrolled": false
   },
   "outputs": [],
   "source": [
    "## variaveis iniciais\n",
    "win_board = [(0,4,8),(2,4,6)]\n",
    "win_board += [(i, i+3, i+6) for i in range(3)]\n",
    "win_board += [(i*3, i*3+1, i*3+2) for i in range(3)]\n",
    "\n",
    "## cria e preenche o tabuleiro\n",
    "def create_board(big_ttt):\n",
    "    small_ttt = ['F', 'F', 'F', 'F', 'F', 'F', 'F', 'F', 'F']\n",
    "    for i in range(9):\n",
    "        big_ttt.append(small_ttt.copy())\n",
    "    return big_ttt\n",
    "\n",
    "## imprime o tabuleiro\n",
    "def print_board(big_ttt):\n",
    "    for h in range(3):\n",
    "        print(\"-\"*25)\n",
    "        for i in range(3):\n",
    "            line = \"| \"\n",
    "            for j in range(3):\n",
    "                line += big_ttt[j+h*3][i*3] + \" \" + big_ttt[j+h*3][i*3+1] + \" \" + big_ttt[j+h*3][i*3+2] + \" | \"\n",
    "            print(line)\n",
    "    print(\"-\"*25)\n",
    "\n",
    "## verifica se há vencedor num tabuleiro menor\n",
    "def small_win(small_ttt):\n",
    "    for i in win_board:\n",
    "        (x, y, z) = i\n",
    "        small_x = small_ttt[x]\n",
    "        if(small_x == small_ttt[y] == small_ttt[z]) and (small_ttt[x] != 'L'):\n",
    "            return small_x\n",
    "        return 'L'\n",
    "\n",
    "## verifica se há vencedor no tabuleiro maior\n",
    "def big_win(big_ttt):\n",
    "    for i in win_board:\n",
    "        (x, y, z) = i\n",
    "        small_x = small_win(big_ttt[x])\n",
    "        if(small_x == small_win(big_ttt[y]) == small_win(big_ttt[z])) and (small_win(big_ttt[x]) != 'L'):\n",
    "            return small_x\n",
    "        return 'L'\n",
    "    \n",
    "\n",
    "big_ttt = create_board([])"
   ]
  },
  {
   "cell_type": "code",
   "execution_count": 129,
   "metadata": {},
   "outputs": [
    {
     "name": "stdout",
     "output_type": "stream",
     "text": [
      "-------------------------\n",
      "| F F F | F F F | F F F | \n",
      "| F F F | F F F | F F F | \n",
      "| F F F | F F F | F F F | \n",
      "-------------------------\n",
      "| F F F | F F F | F F F | \n",
      "| F F F | F F F | F F F | \n",
      "| F F F | F F F | F F F | \n",
      "-------------------------\n",
      "| F F F | F F F | F F F | \n",
      "| F F F | F F F | F F F | \n",
      "| F F F | F F F | F F F | \n",
      "-------------------------\n",
      "-------------------------\n",
      "| F F F | X F F | F F F | \n",
      "| F F F | F F F | F F F | \n",
      "| F F F | F F F | F F F | \n",
      "-------------------------\n",
      "| F F F | F F F | F F F | \n",
      "| F F F | F F F | F F F | \n",
      "| F F F | F F F | F F F | \n",
      "-------------------------\n",
      "| F F F | F F F | X F F | \n",
      "| F F F | F F F | F F F | \n",
      "| F F F | F F F | F F X | \n",
      "-------------------------\n"
     ]
    }
   ],
   "source": [
    "## testes\n",
    "print_board(big_ttt)\n",
    "big_ttt[1][0] = 'X'\n",
    "big_ttt[8][0] = 'X'\n",
    "big_ttt[8][8] = 'X'\n",
    "print_board(big_ttt)"
   ]
  },
  {
   "cell_type": "markdown",
   "metadata": {},
   "source": []
  },
  {
   "cell_type": "markdown",
   "metadata": {},
   "source": []
  },
  {
   "cell_type": "code",
   "execution_count": null,
   "metadata": {},
   "outputs": [],
   "source": []
  },
  {
   "cell_type": "code",
   "execution_count": null,
   "metadata": {},
   "outputs": [],
   "source": []
  },
  {
   "cell_type": "code",
   "execution_count": null,
   "metadata": {},
   "outputs": [],
   "source": []
  }
 ],
 "metadata": {
  "kernelspec": {
   "display_name": "Python 3",
   "language": "python",
   "name": "python3"
  },
  "language_info": {
   "codemirror_mode": {
    "name": "ipython",
    "version": 3
   },
   "file_extension": ".py",
   "mimetype": "text/x-python",
   "name": "python",
   "nbconvert_exporter": "python",
   "pygments_lexer": "ipython3",
   "version": "3.7.1"
  }
 },
 "nbformat": 4,
 "nbformat_minor": 2
}
