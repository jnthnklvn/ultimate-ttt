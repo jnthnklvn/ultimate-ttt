{
 "cells": [
  {
   "cell_type": "code",
   "execution_count": 154,
   "metadata": {
    "scrolled": false
   },
   "outputs": [],
   "source": [
    "## variaveis iniciais e de configuração\n",
    "## win_resul armazena as posições de todas as vitorias\n",
    "## last_move indica em qual quadrado deverá ser a proxima jogada(-1 significa qualquer lugar)\n",
    "win_resul = [(0,4,8),(2,4,6)]\n",
    "win_resul += [(i, i+3, i+6) for i in range(3)]\n",
    "win_resul += [(i*3, i*3+1, i*3+2) for i in range(3)]\n",
    "last_move = -1\n",
    "\n",
    "## cria e preenche o tabuleiro\n",
    "def create_board():\n",
    "    board = []\n",
    "    square = ['F', 'F', 'F', 'F', 'F', 'F', 'F', 'F', 'F']\n",
    "    for i in range(9):\n",
    "        board.append(square.copy())\n",
    "    return board\n",
    "\n",
    "## imprime o tabuleiro\n",
    "def print_board(board):\n",
    "    for h in range(3):\n",
    "        print(\"-\"*25)\n",
    "        for i in range(3):\n",
    "            line = \"| \"\n",
    "            for j in range(3):\n",
    "                line += board[j+h*3][i*3] + \" \" + board[j+h*3][i*3+1] + \" \" + board[j+h*3][i*3+2] + \" | \"\n",
    "            print(line)\n",
    "    print(\"-\"*25)\n",
    "\n",
    "## verifica se há vencedor num dado quadrado\n",
    "def small_win(square):\n",
    "    for i in win_resul:\n",
    "        (x, y, z) = i\n",
    "        square_x = square[x]\n",
    "        if(square_x == square[y] == square[z]) and (square[x] != 'L'):\n",
    "            return square_x\n",
    "    return 'L'\n",
    "\n",
    "## verifica se há vencedor no tabuleiro\n",
    "def big_win(board):\n",
    "    for i in win_resul:\n",
    "        (x, y, z) = i\n",
    "        small_x = small_win(board[x])\n",
    "        if(small_x == small_win(board[y]) == small_win(board[z])) and (small_win(board[x]) != 'L'):\n",
    "            return small_x\n",
    "    return 'L'\n",
    "\n",
    "## recebe o tabuleiro, as posições da jogada e o jogador, e retorna se a jogada é válida\n",
    "## x é o numero do quadrado a ser jogado e y a posição nele\n",
    "def player_move(board, x, y, player):\n",
    "    if(board[x][y] == 'L'):\n",
    "        return False, board\n",
    "    else:\n",
    "        last_move = y ## atualiza o ultimo movimento pra sabermos qual será o próximo quadrado a ser jogado\n",
    "        board[x][y] = player\n",
    "        return True, board\n",
    "\n",
    "## verifica se o quadrado está todo preenchido e retorna um boolean correspondente\n",
    "def full_board(board):\n",
    "    for i in board[last_move]:\n",
    "        if(i=='L'):\n",
    "            return False\n",
    "    return True\n",
    "\n",
    "## verifica se no quadrado indicado pela ultima jogada há vitoria ou empate, caso haja last_move passa a ser -1\n",
    "def next_move(board):\n",
    "    target_square = board[last_move]\n",
    "    if(small_win(target_square) or full_board(target_square)):\n",
    "        last_move = -1"
   ]
  },
  {
   "cell_type": "code",
   "execution_count": 155,
   "metadata": {},
   "outputs": [
    {
     "name": "stdout",
     "output_type": "stream",
     "text": [
      "-------------------------\n",
      "| F F F | F F F | F F F | \n",
      "| F F F | F F F | F F F | \n",
      "| F F F | F F F | F F F | \n",
      "-------------------------\n",
      "| F F F | F F F | F F F | \n",
      "| F F F | F F F | F F F | \n",
      "| F F F | F F F | F F F | \n",
      "-------------------------\n",
      "| F F F | F F F | F F F | \n",
      "| F F F | F F F | F F F | \n",
      "| F F F | F F F | F F F | \n",
      "-------------------------\n",
      "True\n",
      "-------------------------\n",
      "| F F F | F F F | F F F | \n",
      "| F F F | F F F | F F F | \n",
      "| F F F | F F F | F F F | \n",
      "-------------------------\n",
      "| F F F | F F F | F F F | \n",
      "| F F F | F F F | F F F | \n",
      "| F F F | F F F | F F F | \n",
      "-------------------------\n",
      "| F F F | F F F | F F F | \n",
      "| F F F | F F F | F F F | \n",
      "| F F F | F F F | F F X | \n",
      "-------------------------\n"
     ]
    },
    {
     "data": {
      "text/plain": [
       "\"\\nprint_board(big_ttt)\\nbig_ttt[1][0] = 'X'\\nbig_ttt[8][0] = 'X'\\nbig_ttt[8][8] = 'X'\\nprint_board(big_ttt)\\n\""
      ]
     },
     "execution_count": 155,
     "metadata": {},
     "output_type": "execute_result"
    }
   ],
   "source": [
    "## testes\n",
    "\n",
    "\"\"\"\n",
    "print_board(big_ttt)\n",
    "big_ttt[1][0] = 'X'\n",
    "big_ttt[8][0] = 'X'\n",
    "big_ttt[8][8] = 'X'\n",
    "print_board(big_ttt)\n",
    "\"\"\""
   ]
  },
  {
   "cell_type": "markdown",
   "metadata": {},
   "source": []
  },
  {
   "cell_type": "markdown",
   "metadata": {},
   "source": []
  },
  {
   "cell_type": "code",
   "execution_count": null,
   "metadata": {},
   "outputs": [],
   "source": []
  },
  {
   "cell_type": "code",
   "execution_count": null,
   "metadata": {},
   "outputs": [],
   "source": []
  },
  {
   "cell_type": "code",
   "execution_count": null,
   "metadata": {},
   "outputs": [],
   "source": []
  }
 ],
 "metadata": {
  "kernelspec": {
   "display_name": "Python 3",
   "language": "python",
   "name": "python3"
  },
  "language_info": {
   "codemirror_mode": {
    "name": "ipython",
    "version": 3
   },
   "file_extension": ".py",
   "mimetype": "text/x-python",
   "name": "python",
   "nbconvert_exporter": "python",
   "pygments_lexer": "ipython3",
   "version": "3.7.1"
  }
 },
 "nbformat": 4,
 "nbformat_minor": 2
}
